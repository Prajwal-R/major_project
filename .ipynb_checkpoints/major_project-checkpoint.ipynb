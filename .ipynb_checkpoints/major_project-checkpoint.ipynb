{
 "cells": [
  {
   "cell_type": "markdown",
   "metadata": {},
   "source": [
    "## Data Source"
   ]
  },
  {
   "cell_type": "markdown",
   "metadata": {},
   "source": [
    "https://api.covid19india.org/  \n",
    "https://api.covid19india.org/csv/"
   ]
  },
  {
   "cell_type": "markdown",
   "metadata": {},
   "source": [
    "## Import libraries"
   ]
  },
  {
   "cell_type": "code",
   "execution_count": 1,
   "metadata": {},
   "outputs": [
    {
     "name": "stderr",
     "output_type": "stream",
     "text": [
      "In C:\\Users\\hp\\Anaconda3\\lib\\site-packages\\matplotlib\\mpl-data\\stylelib\\_classic_test.mplstyle: \n",
      "The text.latex.preview rcparam was deprecated in Matplotlib 3.3 and will be removed two minor releases later.\n",
      "In C:\\Users\\hp\\Anaconda3\\lib\\site-packages\\matplotlib\\mpl-data\\stylelib\\_classic_test.mplstyle: \n",
      "The mathtext.fallback_to_cm rcparam was deprecated in Matplotlib 3.3 and will be removed two minor releases later.\n",
      "In C:\\Users\\hp\\Anaconda3\\lib\\site-packages\\matplotlib\\mpl-data\\stylelib\\_classic_test.mplstyle: Support for setting the 'mathtext.fallback_to_cm' rcParam is deprecated since 3.3 and will be removed two minor releases later; use 'mathtext.fallback : 'cm' instead.\n",
      "In C:\\Users\\hp\\Anaconda3\\lib\\site-packages\\matplotlib\\mpl-data\\stylelib\\_classic_test.mplstyle: \n",
      "The validate_bool_maybe_none function was deprecated in Matplotlib 3.3 and will be removed two minor releases later.\n",
      "In C:\\Users\\hp\\Anaconda3\\lib\\site-packages\\matplotlib\\mpl-data\\stylelib\\_classic_test.mplstyle: \n",
      "The savefig.jpeg_quality rcparam was deprecated in Matplotlib 3.3 and will be removed two minor releases later.\n",
      "In C:\\Users\\hp\\Anaconda3\\lib\\site-packages\\matplotlib\\mpl-data\\stylelib\\_classic_test.mplstyle: \n",
      "The keymap.all_axes rcparam was deprecated in Matplotlib 3.3 and will be removed two minor releases later.\n",
      "In C:\\Users\\hp\\Anaconda3\\lib\\site-packages\\matplotlib\\mpl-data\\stylelib\\_classic_test.mplstyle: \n",
      "The animation.avconv_path rcparam was deprecated in Matplotlib 3.3 and will be removed two minor releases later.\n",
      "In C:\\Users\\hp\\Anaconda3\\lib\\site-packages\\matplotlib\\mpl-data\\stylelib\\_classic_test.mplstyle: \n",
      "The animation.avconv_args rcparam was deprecated in Matplotlib 3.3 and will be removed two minor releases later.\n"
     ]
    },
    {
     "name": "stdout",
     "output_type": "stream",
     "text": [
      "Requirement already satisfied: fbprophet in c:\\users\\hp\\anaconda3\\lib\\site-packages (0.6)\n",
      "Requirement already satisfied: convertdate>=2.1.2 in c:\\users\\hp\\anaconda3\\lib\\site-packages (from fbprophet) (2.2.2)\n",
      "Requirement already satisfied: Cython>=0.22 in c:\\users\\hp\\anaconda3\\lib\\site-packages (from fbprophet) (0.29.13)\n",
      "Requirement already satisfied: cmdstanpy==0.4 in c:\\users\\hp\\anaconda3\\lib\\site-packages (from fbprophet) (0.4.0)\n",
      "Requirement already satisfied: python-dateutil>=2.8.0 in c:\\users\\hp\\anaconda3\\lib\\site-packages (from fbprophet) (2.8.0)\n",
      "Requirement already satisfied: holidays>=0.9.5 in c:\\users\\hp\\anaconda3\\lib\\site-packages (from fbprophet) (0.10.3)\n",
      "Requirement already satisfied: matplotlib>=2.0.0 in c:\\users\\hp\\anaconda3\\lib\\site-packages (from fbprophet) (3.3.1)\n",
      "Requirement already satisfied: numpy>=1.10.0 in c:\\users\\hp\\anaconda3\\lib\\site-packages (from fbprophet) (1.16.5)\n",
      "Requirement already satisfied: pandas>=0.23.4 in c:\\users\\hp\\anaconda3\\lib\\site-packages (from fbprophet) (1.1.3)\n",
      "Requirement already satisfied: setuptools-git>=1.2 in c:\\users\\hp\\anaconda3\\lib\\site-packages (from fbprophet) (1.2)\n",
      "Requirement already satisfied: pystan>=2.14 in c:\\users\\hp\\anaconda3\\lib\\site-packages (from fbprophet) (2.19.1.1)\n",
      "Requirement already satisfied: LunarCalendar>=0.0.9 in c:\\users\\hp\\anaconda3\\lib\\site-packages (from fbprophet) (0.0.9)\n",
      "Requirement already satisfied: pytz>=2014.10 in c:\\users\\hp\\anaconda3\\lib\\site-packages (from convertdate>=2.1.2->fbprophet) (2019.3)\n",
      "Requirement already satisfied: pymeeus<=1,>=0.3.6 in c:\\users\\hp\\anaconda3\\lib\\site-packages (from convertdate>=2.1.2->fbprophet) (0.3.7)\n",
      "Requirement already satisfied: six>=1.5 in c:\\users\\hp\\appdata\\roaming\\python\\python37\\site-packages (from python-dateutil>=2.8.0->fbprophet) (1.12.0)\n",
      "Requirement already satisfied: korean-lunar-calendar in c:\\users\\hp\\anaconda3\\lib\\site-packages (from holidays>=0.9.5->fbprophet) (0.2.1)\n",
      "Requirement already satisfied: certifi>=2020.06.20 in c:\\users\\hp\\anaconda3\\lib\\site-packages (from matplotlib>=2.0.0->fbprophet) (2020.6.20)\n",
      "Requirement already satisfied: kiwisolver>=1.0.1 in c:\\users\\hp\\anaconda3\\lib\\site-packages (from matplotlib>=2.0.0->fbprophet) (1.1.0)\n",
      "Requirement already satisfied: pyparsing!=2.0.4,!=2.1.2,!=2.1.6,>=2.0.3 in c:\\users\\hp\\anaconda3\\lib\\site-packages (from matplotlib>=2.0.0->fbprophet) (2.4.2)\n",
      "Requirement already satisfied: cycler>=0.10 in c:\\users\\hp\\anaconda3\\lib\\site-packages (from matplotlib>=2.0.0->fbprophet) (0.10.0)\n",
      "Requirement already satisfied: pillow>=6.2.0 in c:\\users\\hp\\anaconda3\\lib\\site-packages (from matplotlib>=2.0.0->fbprophet) (6.2.0)\n",
      "Requirement already satisfied: ephem>=3.7.5.3 in c:\\users\\hp\\anaconda3\\lib\\site-packages (from LunarCalendar>=0.0.9->fbprophet) (3.7.7.1)\n",
      "Requirement already satisfied: setuptools in c:\\users\\hp\\anaconda3\\lib\\site-packages (from kiwisolver>=1.0.1->matplotlib>=2.0.0->fbprophet) (41.4.0)\n"
     ]
    },
    {
     "name": "stderr",
     "output_type": "stream",
     "text": [
      "Importing plotly failed. Interactive plots will not work.\n"
     ]
    }
   ],
   "source": [
    "# to get web contents\n",
    "import requests\n",
    "# to parse json contents\n",
    "import json\n",
    "# to parse csv files\n",
    "import csv\n",
    "\n",
    "# for numerical operations\n",
    "import numpy as np\n",
    "# to store and analysis data in dataframes\n",
    "import pandas as pd\n",
    "#for graphs\n",
    "import matplotlib.pyplot as plt\n",
    "\n",
    "#for future prediction\n",
    "!pip install fbprophet\n",
    "import fbprophet"
   ]
  },
  {
   "cell_type": "markdown",
   "metadata": {},
   "source": [
    "## Raw data"
   ]
  },
  {
   "cell_type": "code",
   "execution_count": null,
   "metadata": {},
   "outputs": [],
   "source": [
    "# read data\n",
    "raw_1 = pd.read_csv('https://api.covid19india.org/csv/latest/raw_data1.csv')\n",
    "raw_2 = pd.read_csv('https://api.covid19india.org/csv/latest/raw_data2.csv')\n",
    "raw_3 = pd.read_csv('https://api.covid19india.org/csv/latest/raw_data3.csv')\n",
    "raw_4 = pd.read_csv('https://api.covid19india.org/csv/latest/raw_data4.csv')\n",
    "raw_5 = pd.read_csv('https://api.covid19india.org/csv/latest/raw_data5.csv')\n",
    "raw_6 = pd.read_csv('https://api.covid19india.org/csv/latest/raw_data6.csv')\n",
    "raw_7 = pd.read_csv('https://api.covid19india.org/csv/latest/raw_data7.csv')\n",
    "raw_8 = pd.read_csv('https://api.covid19india.org/csv/latest/raw_data8.csv')\n",
    "raw_9 = pd.read_csv('https://api.covid19india.org/csv/latest/raw_data9.csv')\n",
    "raw_10 = pd.read_csv('https://api.covid19india.org/csv/latest/raw_data10.csv')\n",
    "raw_11 = pd.read_csv('https://api.covid19india.org/csv/latest/raw_data11.csv')\n",
    "raw_12 = pd.read_csv('https://api.covid19india.org/csv/latest/raw_data12.csv')\n",
    "raw_13 = pd.read_csv('https://api.covid19india.org/csv/latest/raw_data13.csv')\n",
    "raw_14 = pd.read_csv('https://api.covid19india.org/csv/latest/raw_data14.csv')\n",
    "raw_15 = pd.read_csv('https://api.covid19india.org/csv/latest/raw_data15.csv')\n",
    "raw_16 = pd.read_csv('https://api.covid19india.org/csv/latest/raw_data16.csv')\n",
    "\n",
    "# concatenate dfs\n",
    "full_data = pd.concat([raw_1, raw_2, raw_3, raw_4, raw_5, \n",
    "                       raw_6, raw_7, raw_8, raw_9, raw_10, \n",
    "                       raw_11, raw_12, raw_13, raw_14, raw_15, raw_16])\n",
    "\n",
    "# save to csv`\n",
    "full_data.to_csv('patients_data.csv', index=False)\n",
    "\n",
    "# no. of rows and column\n",
    "print(full_data.shape)\n",
    "\n",
    "# first few rows\n",
    "full_data.head(10)"
   ]
  },
  {
   "cell_type": "code",
   "execution_count": null,
   "metadata": {},
   "outputs": [],
   "source": [
    "\n",
    "#remove unwanted column\n",
    "full_data.drop([\"Source_1\",\"Source_2\",\"Source_3\",\"State Patient Number\",\"Contracted from which Patient (Suspected)\",\"Backup Notes\",\"Entry_ID\",\"Type of transmission\",\"Estimated Onset Date\"],axis=1,inplace=True)"
   ]
  },
  {
   "cell_type": "code",
   "execution_count": null,
   "metadata": {
    "scrolled": true
   },
   "outputs": [],
   "source": [
    "full_data.head()"
   ]
  },
  {
   "cell_type": "markdown",
   "metadata": {},
   "source": [
    "## 1. Daily cases in India(from last 5 days)"
   ]
  },
  {
   "cell_type": "code",
   "execution_count": null,
   "metadata": {},
   "outputs": [],
   "source": [
    "# read data\n",
    "day_wise = pd.read_csv('https://api.covid19india.org/csv/latest/case_time_series.csv')\n",
    "\n",
    "# save as a .csv file\n",
    "day_wise.to_csv('nation_level_daily.csv', index=False)\n",
    "\n",
    "# last 5 rows\n",
    "day_wise.tail()"
   ]
  },
  {
   "cell_type": "markdown",
   "metadata": {},
   "source": [
    "## 2. Total active case"
   ]
  },
  {
   "cell_type": "code",
   "execution_count": null,
   "metadata": {},
   "outputs": [],
   "source": [
    "#calculate active cases\n",
    "df=day_wise\n",
    "confirmed=df[\"Total Confirmed\"]\n",
    "Recovered=df[\"Total Recovered\"]\n",
    "Deceased=df[\"Total Deceased\"]\n",
    "#df.rename(columns={\"\": \"Confirmed\", \"Recovered\":\"\",\"Total Deceased\":\"Deceased\"})\n",
    "#df['active case'] = df.apply(\n",
    "active_case=[]\n",
    "for x in range(len(confirmed)): \n",
    "    active_case.append(confirmed[x]-Recovered[x]-Deceased[x])\n",
    "#df.tail(1)\n",
    "#print(active_case)\n",
    "df[\"Active_case\"]=active_case\n",
    "#create copy of data base for future prediction\n",
    "corona_df=df[[\"Date\",\"Active_case\"]]\n",
    "\n",
    "#latest total active case\n",
    "df[[\"Date\",\"Active_case\"]].tail(1)"
   ]
  },
  {
   "cell_type": "markdown",
   "metadata": {},
   "source": [
    "## 3. Recovery rate"
   ]
  },
  {
   "cell_type": "code",
   "execution_count": null,
   "metadata": {},
   "outputs": [],
   "source": [
    "\n",
    "#recovery rate calculation\n",
    "recovery =round(Recovered/confirmed*100, 2)\n",
    "recovery_rate= list(map(\"{}%\".format, recovery))\n",
    "\n",
    "df['recovery_rate']=recovery_rate\n",
    "df[[\"Date\",\"Total Confirmed\",\"recovery_rate\"]].tail()"
   ]
  },
  {
   "cell_type": "markdown",
   "metadata": {},
   "source": [
    "## 4. Latest - State wise "
   ]
  },
  {
   "cell_type": "code",
   "execution_count": null,
   "metadata": {},
   "outputs": [],
   "source": [
    "## https://api.covid19india.org/csv/latest/state_wise.csv\n",
    "    \n",
    "# read data\n",
    "latest = pd.read_csv('https://api.covid19india.org/csv/latest/state_wise.csv')\n",
    "# save as a .csv file`\n",
    "latest.to_csv('state_level_latest.csv', index=False)\n",
    "\n",
    "df= latest.sort_values(['State']) \n",
    "\n",
    "#drop unwanted columns\n",
    "df.drop([\"State_Notes\",'State_code'],axis=1,inplace=True)\n",
    "\n",
    "# first few rows\n",
    "df"
   ]
  },
  {
   "cell_type": "markdown",
   "metadata": {},
   "source": [
    "## 5. Top 5 effected state"
   ]
  },
  {
   "cell_type": "code",
   "execution_count": null,
   "metadata": {},
   "outputs": [],
   "source": [
    "# sort and list most effected state\n",
    "df.sort_values(['Confirmed'],ascending=False).iloc[1:6]"
   ]
  },
  {
   "cell_type": "markdown",
   "metadata": {},
   "source": [
    "## 6. daily state wise data"
   ]
  },
  {
   "cell_type": "code",
   "execution_count": null,
   "metadata": {},
   "outputs": [],
   "source": [
    "# read data\n",
    "state_wise_daily = pd.read_csv('https://api.covid19india.org/csv/latest/state_wise_daily.csv')\n",
    "\n",
    "\n",
    "state_wise_daily.drop(['Date_YMD'],axis=1,inplace=True)\n",
    "# melt dataframe\n",
    "state_wise_daily = state_wise_daily.melt(id_vars=['Date', 'Status'], \n",
    "                                         value_vars=state_wise_daily.columns[2:], \n",
    "                                         var_name='State', value_name='Count')\n",
    "\n",
    "# pivot table\n",
    "state_wise_daily = state_wise_daily.pivot_table(index=['Date', 'State'], \n",
    "                                                columns=['Status'], \n",
    "                                                values='Count').reset_index()\n",
    "\n",
    "# map state names to state codes\n",
    "state_codes = {code:state for code, state in zip(latest['State_code'], latest['State'])}\n",
    "state_codes['DD'] = 'Daman and Diu'\n",
    "state_wise_daily['State_Name'] = state_wise_daily['State'].map(state_codes)\n",
    "\n",
    "\n",
    "# save as a .csv file\n",
    "state_wise_daily.to_csv('state_level_daily.csv')\n",
    "\n",
    "# last 39 rows \n",
    "state_wise_daily.tail(39)"
   ]
  },
  {
   "cell_type": "markdown",
   "metadata": {},
   "source": [
    "## 7.  District wise distribution"
   ]
  },
  {
   "cell_type": "code",
   "execution_count": null,
   "metadata": {},
   "outputs": [],
   "source": [
    "# read data\n",
    "district_wise = pd.read_csv('https://api.covid19india.org/csv/latest/district_wise.csv')\n",
    "\n",
    "# save as .csv file\n",
    "district_wise.to_csv('district_level_latest.csv', index=False)\n",
    "\n",
    "df =district_wise.sort_values(['State','District'])\n",
    "df.drop([\"District_Notes\",'State_Code','District_Key'],axis=1,inplace=True)\n",
    "\n",
    "# first few rows\n",
    "df.head()"
   ]
  },
  {
   "cell_type": "markdown",
   "metadata": {},
   "source": [
    "## 8. most effected district"
   ]
  },
  {
   "cell_type": "code",
   "execution_count": null,
   "metadata": {},
   "outputs": [],
   "source": [
    "df= df.sort_values(['Confirmed'],ascending=False) \n",
    "df[['State','District','Confirmed']].iloc[1]"
   ]
  },
  {
   "cell_type": "markdown",
   "metadata": {},
   "source": [
    "## 9. Total Sample Tested"
   ]
  },
  {
   "cell_type": "code",
   "execution_count": null,
   "metadata": {},
   "outputs": [],
   "source": [
    "# read data\n",
    "tests_day_wise = pd.read_csv('https://api.covid19india.org/csv/latest/tested_numbers_icmr_data.csv')\n",
    "\n",
    "# save as .csv file\n",
    "tests_day_wise.to_csv('tests_day_wise.csv', index=False)\n",
    "df=tests_day_wise\n",
    "df.drop([\"Source\",'Source 1','Source 3'],axis=1,inplace=True)\n",
    "#total samples tested\n",
    "int(df['Total Samples Tested'].iloc[-1])"
   ]
  },
  {
   "cell_type": "markdown",
   "metadata": {},
   "source": [
    "## 10. Top 5 State with heighest tests no."
   ]
  },
  {
   "cell_type": "code",
   "execution_count": null,
   "metadata": {},
   "outputs": [],
   "source": [
    "# read data\n",
    "tests_state_wise = pd.read_csv('https://api.covid19india.org/csv/latest/statewise_tested_numbers_data.csv')\n",
    "\n",
    "# save as .csv file\n",
    "tests_state_wise.to_csv('tests_state_wise.csv', index=False)\n",
    "\n",
    "df=tests_state_wise.sort_values(['Total Tested'],ascending=False)\n",
    "df=df.loc[df['Updated On'] == '18/10/2020']\n",
    "#df.drop(['RT PCR Tests','Antigen Tests','Other Tests','Tag (Total Tested)'],axis=1,inplace=True)\n",
    "# top 5 rows\n",
    "df[['Updated On','State','Total Tested']].head(5)"
   ]
  },
  {
   "cell_type": "markdown",
   "metadata": {},
   "source": [
    "# Visualization"
   ]
  },
  {
   "cell_type": "code",
   "execution_count": null,
   "metadata": {},
   "outputs": [],
   "source": [
    "import seaborn as sns\n",
    "import matplotlib.pyplot as plt "
   ]
  },
  {
   "cell_type": "code",
   "execution_count": null,
   "metadata": {},
   "outputs": [],
   "source": [
    "df=day_wise.T\n",
    "\n",
    "df.loc[\"Total Deceased\"].plot()\n",
    "df.loc[\"Total Confirmed\"].plot()\n",
    "df.loc[\"Total Recovered\"].plot()\n",
    "plt.legend()\n",
    "\n",
    "plt.plot()"
   ]
  },
  {
   "cell_type": "markdown",
   "metadata": {},
   "source": [
    "### more visualization is done through tableau"
   ]
  },
  {
   "cell_type": "markdown",
   "metadata": {},
   "source": [
    "## forecasting using FBprophet for Active Cases"
   ]
  },
  {
   "cell_type": "code",
   "execution_count": null,
   "metadata": {},
   "outputs": [],
   "source": [
    "\n",
    "#to get proper date format\n",
    "date_format=corona_df['Date'].tolist()\n",
    "active_case=corona_df['Active_case'].tolist()\n",
    "#type(date_format[1])\n",
    "for i in range(len(date_format)):\n",
    "    date_format[i]=date_format[i]+ \"2020\"\n",
    "#date_format\n",
    "\n",
    "\n",
    "#create new dataframe and format Data tpye\n",
    "new_df = pd.DataFrame({'Date': date_format,'Active_case': active_case})\n",
    "new_df['Date'] = pd.to_datetime(new_df['Date'], errors='coerce')\n",
    "\n",
    "new_df.tail()"
   ]
  },
  {
   "cell_type": "code",
   "execution_count": null,
   "metadata": {},
   "outputs": [],
   "source": [
    "#rename dataframe elements for prediction\n",
    "new_df = new_df.rename(columns={'Date':'ds','Active_case':'y'})\n",
    "new_df"
   ]
  },
  {
   "cell_type": "code",
   "execution_count": null,
   "metadata": {},
   "outputs": [],
   "source": [
    "new_df.info()"
   ]
  },
  {
   "cell_type": "code",
   "execution_count": null,
   "metadata": {},
   "outputs": [],
   "source": [
    "#fit the model\n",
    "op = fbprophet.Prophet(changepoint_prior_scale=0.5)\n",
    "op.add_seasonality(name='Daily',period=1,fourier_order=6)\n",
    "op.fit(new_df)"
   ]
  },
  {
   "cell_type": "code",
   "execution_count": null,
   "metadata": {},
   "outputs": [],
   "source": [
    "#make future prediction\n",
    "forecast = op.make_future_dataframe(periods= 10,freq = 'W')\n",
    "forecast = op.predict(forecast)\n"
   ]
  },
  {
   "cell_type": "code",
   "execution_count": null,
   "metadata": {},
   "outputs": [],
   "source": [
    "forecast.head()"
   ]
  },
  {
   "cell_type": "code",
   "execution_count": null,
   "metadata": {},
   "outputs": [],
   "source": [
    "forecast[['ds', 'yhat', 'yhat_lower']].tail()"
   ]
  },
  {
   "cell_type": "code",
   "execution_count": null,
   "metadata": {},
   "outputs": [],
   "source": [
    "#plot prediction\n",
    "\n",
    "op.plot(forecast,xlabel='Date',ylabel='active case')\n",
    "plt.title('covid-19 active case ')"
   ]
  },
  {
   "cell_type": "code",
   "execution_count": null,
   "metadata": {},
   "outputs": [],
   "source": [
    "forecast[['ds','yhat']].tail(12)"
   ]
  }
 ],
 "metadata": {
  "kernelspec": {
   "display_name": "Python 3",
   "language": "python",
   "name": "python3"
  },
  "language_info": {
   "codemirror_mode": {
    "name": "ipython",
    "version": 3
   },
   "file_extension": ".py",
   "mimetype": "text/x-python",
   "name": "python",
   "nbconvert_exporter": "python",
   "pygments_lexer": "ipython3",
   "version": "3.7.4"
  }
 },
 "nbformat": 4,
 "nbformat_minor": 4
}
